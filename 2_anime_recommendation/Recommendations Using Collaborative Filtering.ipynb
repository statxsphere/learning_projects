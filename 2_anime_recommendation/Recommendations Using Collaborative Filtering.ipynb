{
 "cells": [
  {
   "cell_type": "code",
   "execution_count": 1,
   "metadata": {},
   "outputs": [],
   "source": [
    "import pandas as pd\n",
    "import re\n",
    "import numpy as np\n",
    "import scipy as sp\n",
    "import seaborn as sns\n",
    "from sklearn.metrics.pairwise import cosine_similarity\n",
    "import gc\n",
    "import operator\n",
    "import matplotlib.pyplot as plt\n",
    "%matplotlib inline"
   ]
  },
  {
   "cell_type": "code",
   "execution_count": 2,
   "metadata": {},
   "outputs": [],
   "source": [
    "anime = pd.read_csv('data1/anime.csv')\n",
    "user = pd.read_csv('data1/rating.csv')"
   ]
  },
  {
   "cell_type": "code",
   "execution_count": 3,
   "metadata": {},
   "outputs": [
    {
     "name": "stdout",
     "output_type": "stream",
     "text": [
      "<class 'pandas.core.frame.DataFrame'>\n",
      "Int64Index: 2065572 entries, 0 to 2065571\n",
      "Data columns (total 3 columns):\n",
      " #   Column    Dtype\n",
      "---  ------    -----\n",
      " 0   user_id   int16\n",
      " 1   anime_id  int32\n",
      " 2   rating    int8 \n",
      "dtypes: int16(1), int32(1), int8(1)\n",
      "memory usage: 29.5 MB\n"
     ]
    }
   ],
   "source": [
    "def text_cleaning(text):\n",
    "    text = re.sub(r'&quot;', '', text)\n",
    "    text = re.sub(r'.hack//', '', text)\n",
    "    text = re.sub(r'&#039;', '', text)\n",
    "    text = re.sub(r'A&#039;s', '', text)\n",
    "    text = re.sub(r'I&#039;', 'I\\'', text)\n",
    "    text = re.sub(r'&amp;', 'and', text)\n",
    "    \n",
    "    return text\n",
    "\n",
    "anime['name'] = anime['name'].apply(text_cleaning)\n",
    "user['rating'] = user['rating'].apply(lambda x: 0 if x == -1 else x)\n",
    "user_sub = user[user['user_id'] < 20000]\n",
    "user_sub = user_sub.apply(pd.to_numeric,downcast='integer')\n",
    "user_sub.info()"
   ]
  },
  {
   "cell_type": "code",
   "execution_count": null,
   "metadata": {},
   "outputs": [],
   "source": []
  },
  {
   "cell_type": "code",
   "execution_count": 4,
   "metadata": {},
   "outputs": [
    {
     "data": {
      "text/plain": [
       "24"
      ]
     },
     "execution_count": 4,
     "metadata": {},
     "output_type": "execute_result"
    }
   ],
   "source": [
    "gc.collect()"
   ]
  },
  {
   "cell_type": "code",
   "execution_count": 5,
   "metadata": {},
   "outputs": [],
   "source": [
    "merged = user_sub.merge(anime, left_on = 'anime_id', right_on = 'anime_id', suffixes= ['_user', ''])\n",
    "merged.rename(columns = {'rating_user':'user_rating'}, inplace = True)"
   ]
  },
  {
   "cell_type": "code",
   "execution_count": 6,
   "metadata": {},
   "outputs": [
    {
     "data": {
      "text/plain": [
       "40"
      ]
     },
     "execution_count": 6,
     "metadata": {},
     "output_type": "execute_result"
    }
   ],
   "source": [
    "gc.collect()"
   ]
  },
  {
   "cell_type": "code",
   "execution_count": 7,
   "metadata": {},
   "outputs": [],
   "source": [
    "ints = merged.select_dtypes(include=['int'])\n",
    "floats = merged.select_dtypes(include=['float'])\n",
    "converted_int = ints.apply(pd.to_numeric,downcast='integer')\n",
    "convMem = merged.members.astype('int32')\n",
    "converted_flt = floats.apply(pd.to_numeric,downcast='float')\n",
    "merged[converted_int.columns] = converted_int\n",
    "merged[converted_flt.columns] = converted_flt\n",
    "merged['members'] = convMem"
   ]
  },
  {
   "cell_type": "code",
   "execution_count": 8,
   "metadata": {},
   "outputs": [],
   "source": [
    "del ints,floats,converted_int,convMem,converted_flt,user,user_sub"
   ]
  },
  {
   "cell_type": "code",
   "execution_count": 9,
   "metadata": {},
   "outputs": [
    {
     "name": "stdout",
     "output_type": "stream",
     "text": [
      "<class 'pandas.core.frame.DataFrame'>\n",
      "Int64Index: 2065569 entries, 0 to 2065568\n",
      "Data columns (total 9 columns):\n",
      " #   Column       Dtype  \n",
      "---  ------       -----  \n",
      " 0   user_id      int16  \n",
      " 1   anime_id     int32  \n",
      " 2   user_rating  int8   \n",
      " 3   name         object \n",
      " 4   genre        object \n",
      " 5   type         object \n",
      " 6   episodes     object \n",
      " 7   rating       float32\n",
      " 8   members      int32  \n",
      "dtypes: float32(1), int16(1), int32(2), int8(1), object(4)\n",
      "memory usage: 108.3+ MB\n"
     ]
    }
   ],
   "source": [
    "merged.info()"
   ]
  },
  {
   "cell_type": "code",
   "execution_count": null,
   "metadata": {},
   "outputs": [],
   "source": []
  },
  {
   "cell_type": "code",
   "execution_count": 10,
   "metadata": {},
   "outputs": [
    {
     "data": {
      "text/plain": [
       "60"
      ]
     },
     "execution_count": 10,
     "metadata": {},
     "output_type": "execute_result"
    }
   ],
   "source": [
    "gc.collect()"
   ]
  },
  {
   "cell_type": "code",
   "execution_count": 11,
   "metadata": {},
   "outputs": [
    {
     "name": "stdout",
     "output_type": "stream",
     "text": [
      "<class 'pandas.core.frame.DataFrame'>\n",
      "Int64Index: 19999 entries, 1 to 19999\n",
      "Columns: 9272 entries, 0 to ◯\n",
      "dtypes: float32(9272)\n",
      "memory usage: 707.5 MB\n"
     ]
    }
   ],
   "source": [
    "piv = merged.pivot_table(index=['user_id'], columns=['name'], values='user_rating').apply(pd.to_numeric,downcast='float')\n",
    "piv.info()"
   ]
  },
  {
   "cell_type": "code",
   "execution_count": 12,
   "metadata": {},
   "outputs": [],
   "source": [
    "# Note: As we are subtracting the mean from each rating to standardize\n",
    "# all users with only one rating or who had rated everything the same will be dropped\n",
    "\n",
    "# Normalize the values\n",
    "piv_norm = piv.apply(lambda x: (x-np.mean(x))/(np.max(x)-np.min(x)), axis=1)\n",
    "\n",
    "\n",
    "# Drop all columns containing only zeros representing users who did not rate\n",
    "piv_norm.fillna(0, inplace=True)\n",
    "piv_norm = piv_norm.T\n",
    "piv_norm = piv_norm.loc[:, (piv_norm != 0).any(axis=0)]"
   ]
  },
  {
   "cell_type": "code",
   "execution_count": null,
   "metadata": {},
   "outputs": [],
   "source": []
  },
  {
   "cell_type": "code",
   "execution_count": 13,
   "metadata": {},
   "outputs": [
    {
     "data": {
      "text/plain": [
       "38"
      ]
     },
     "execution_count": 13,
     "metadata": {},
     "output_type": "execute_result"
    }
   ],
   "source": [
    "gc.collect()"
   ]
  },
  {
   "cell_type": "code",
   "execution_count": 14,
   "metadata": {},
   "outputs": [],
   "source": [
    "piv_sparse = sp.sparse.csr_matrix(piv_norm.values)"
   ]
  },
  {
   "cell_type": "code",
   "execution_count": 15,
   "metadata": {},
   "outputs": [],
   "source": [
    "item_similarity = cosine_similarity(piv_sparse)\n",
    "user_similarity = cosine_similarity(piv_sparse.T)"
   ]
  },
  {
   "cell_type": "code",
   "execution_count": 16,
   "metadata": {},
   "outputs": [],
   "source": [
    "item_sim_df = pd.DataFrame(item_similarity, index = piv_norm.index, columns = piv_norm.index)"
   ]
  },
  {
   "cell_type": "code",
   "execution_count": 17,
   "metadata": {},
   "outputs": [
    {
     "ename": "NameError",
     "evalue": "name 'user_sim_df' is not defined",
     "output_type": "error",
     "traceback": [
      "\u001b[1;31m---------------------------------------------------------------------------\u001b[0m",
      "\u001b[1;31mNameError\u001b[0m                                 Traceback (most recent call last)",
      "\u001b[1;32m<ipython-input-17-34152f6b259e>\u001b[0m in \u001b[0;36m<module>\u001b[1;34m\u001b[0m\n\u001b[1;32m----> 1\u001b[1;33m \u001b[1;32mdel\u001b[0m \u001b[0muser_sim_df\u001b[0m\u001b[1;33m,\u001b[0m \u001b[0muser_similarity\u001b[0m\u001b[1;33m\u001b[0m\u001b[1;33m\u001b[0m\u001b[0m\n\u001b[0m",
      "\u001b[1;31mNameError\u001b[0m: name 'user_sim_df' is not defined"
     ]
    }
   ],
   "source": [
    "del user_sim_df, user_similarity"
   ]
  },
  {
   "cell_type": "code",
   "execution_count": null,
   "metadata": {},
   "outputs": [],
   "source": [
    "from sys import getsizeof"
   ]
  },
  {
   "cell_type": "code",
   "execution_count": null,
   "metadata": {},
   "outputs": [],
   "source": [
    "# item_sim_df.to_csv('data1/items.csv')"
   ]
  },
  {
   "cell_type": "code",
   "execution_count": 18,
   "metadata": {},
   "outputs": [],
   "source": [
    "def top_animes1(n):\n",
    "    x = input('Enter Anime Name:')\n",
    "    anime_name = anime[anime['name'].str.contains(x, case=False)].sort_values(by='members', ascending=False).reset_index()['name'][0]\n",
    "    count = 1\n",
    "    print('If you like {}, you may also like:\\n'.format(anime_name))\n",
    "    for item in item_sim_df.sort_values(by = anime_name, ascending = False).index[1:int(n)+1]:\n",
    "        print('No. {}: {}'.format(count, item))\n",
    "        count +=1"
   ]
  },
  {
   "cell_type": "code",
   "execution_count": 19,
   "metadata": {},
   "outputs": [
    {
     "name": "stdout",
     "output_type": "stream",
     "text": [
      "Enter Anime Name:Death Note\n",
      "If you like Death Note, you may also like:\n",
      "\n",
      "No. 1: Code Geass: Hangyaku no Lelouch R2\n",
      "No. 2: Code Geass: Hangyaku no Lelouch\n",
      "No. 3: Fullmetal Alchemist: Brotherhood\n",
      "No. 4: Steins;Gate\n",
      "No. 5: Shingeki no Kyojin\n",
      "No. 6: Clannad: After Story\n",
      "No. 7: Fullmetal Alchemist\n",
      "No. 8: Tengen Toppa Gurren Lagann\n",
      "No. 9: Great Teacher Onizuka\n",
      "No. 10: Sen to Chihiro no Kamikakushi\n"
     ]
    }
   ],
   "source": [
    "top_animes1(10)"
   ]
  },
  {
   "cell_type": "code",
   "execution_count": 35,
   "metadata": {},
   "outputs": [
    {
     "data": {
      "text/plain": [
       "'001'"
      ]
     },
     "execution_count": 35,
     "metadata": {},
     "output_type": "execute_result"
    }
   ],
   "source": [
    " item_sim_df.index[1]"
   ]
  },
  {
   "cell_type": "code",
   "execution_count": 50,
   "metadata": {},
   "outputs": [],
   "source": [
    "def df_maker(x,n):\n",
    "    return item_sim_df.nlargest(n+1,x).index[n]"
   ]
  },
  {
   "cell_type": "code",
   "execution_count": 51,
   "metadata": {},
   "outputs": [
    {
     "data": {
      "text/plain": [
       "'Shigatsu wa Kimi no Uso'"
      ]
     },
     "execution_count": 51,
     "metadata": {},
     "output_type": "execute_result"
    }
   ],
   "source": [
    "dfm('Kimi no Na wa.',1)"
   ]
  },
  {
   "cell_type": "code",
   "execution_count": 52,
   "metadata": {},
   "outputs": [],
   "source": [
    "def dfm(x,n):\n",
    "    try:\n",
    "        return df_maker(x,n)\n",
    "    except:\n",
    "        return np.nan"
   ]
  },
  {
   "cell_type": "code",
   "execution_count": 57,
   "metadata": {},
   "outputs": [],
   "source": [
    "df = anime[['anime_id','name']]"
   ]
  },
  {
   "cell_type": "code",
   "execution_count": null,
   "metadata": {},
   "outputs": [],
   "source": [
    "df['1'] = df.apply(lambda x: dfm(x['name'],1), axis=1)\n",
    "# df['2'] = df['name']\n",
    "# df['3'] = df['name']\n",
    "# df['4'] = df['name']\n",
    "# df['5'] = df['name']\n",
    "# df['6'] = df['name']\n",
    "# df['7'] = df['name']\n",
    "# df['8'] = df['name']\n",
    "# df['9'] = df['name']\n",
    "# df['10'] = df['name']\n",
    "df.info()"
   ]
  },
  {
   "cell_type": "code",
   "execution_count": null,
   "metadata": {},
   "outputs": [],
   "source": [
    "df['1']"
   ]
  },
  {
   "cell_type": "code",
   "execution_count": 55,
   "metadata": {},
   "outputs": [],
   "source": [
    "df['1'] = df.apply(lambda x: dfm(x['name'],1), axis=1)"
   ]
  },
  {
   "cell_type": "code",
   "execution_count": 56,
   "metadata": {},
   "outputs": [
    {
     "data": {
      "text/html": [
       "<div>\n",
       "<style scoped>\n",
       "    .dataframe tbody tr th:only-of-type {\n",
       "        vertical-align: middle;\n",
       "    }\n",
       "\n",
       "    .dataframe tbody tr th {\n",
       "        vertical-align: top;\n",
       "    }\n",
       "\n",
       "    .dataframe thead th {\n",
       "        text-align: right;\n",
       "    }\n",
       "</style>\n",
       "<table border=\"1\" class=\"dataframe\">\n",
       "  <thead>\n",
       "    <tr style=\"text-align: right;\">\n",
       "      <th></th>\n",
       "      <th>anime_id</th>\n",
       "      <th>name</th>\n",
       "      <th>1</th>\n",
       "      <th>2</th>\n",
       "      <th>3</th>\n",
       "      <th>4</th>\n",
       "      <th>5</th>\n",
       "      <th>6</th>\n",
       "      <th>7</th>\n",
       "      <th>8</th>\n",
       "      <th>9</th>\n",
       "      <th>10</th>\n",
       "    </tr>\n",
       "  </thead>\n",
       "  <tbody>\n",
       "    <tr>\n",
       "      <th>0</th>\n",
       "      <td>32281</td>\n",
       "      <td>Kimi no Na wa.</td>\n",
       "      <td>Shigatsu wa Kimi no Uso</td>\n",
       "      <td>Kimi no Na wa.</td>\n",
       "      <td>Kimi no Na wa.</td>\n",
       "      <td>Kimi no Na wa.</td>\n",
       "      <td>Kimi no Na wa.</td>\n",
       "      <td>Kimi no Na wa.</td>\n",
       "      <td>Kimi no Na wa.</td>\n",
       "      <td>Kimi no Na wa.</td>\n",
       "      <td>Kimi no Na wa.</td>\n",
       "      <td>Kimi no Na wa.</td>\n",
       "    </tr>\n",
       "    <tr>\n",
       "      <th>1</th>\n",
       "      <td>5114</td>\n",
       "      <td>Fullmetal Alchemist: Brotherhood</td>\n",
       "      <td>Steins;Gate</td>\n",
       "      <td>Fullmetal Alchemist: Brotherhood</td>\n",
       "      <td>Fullmetal Alchemist: Brotherhood</td>\n",
       "      <td>Fullmetal Alchemist: Brotherhood</td>\n",
       "      <td>Fullmetal Alchemist: Brotherhood</td>\n",
       "      <td>Fullmetal Alchemist: Brotherhood</td>\n",
       "      <td>Fullmetal Alchemist: Brotherhood</td>\n",
       "      <td>Fullmetal Alchemist: Brotherhood</td>\n",
       "      <td>Fullmetal Alchemist: Brotherhood</td>\n",
       "      <td>Fullmetal Alchemist: Brotherhood</td>\n",
       "    </tr>\n",
       "    <tr>\n",
       "      <th>2</th>\n",
       "      <td>28977</td>\n",
       "      <td>Gintama°</td>\n",
       "      <td>Gintama: Enchousen</td>\n",
       "      <td>Gintama°</td>\n",
       "      <td>Gintama°</td>\n",
       "      <td>Gintama°</td>\n",
       "      <td>Gintama°</td>\n",
       "      <td>Gintama°</td>\n",
       "      <td>Gintama°</td>\n",
       "      <td>Gintama°</td>\n",
       "      <td>Gintama°</td>\n",
       "      <td>Gintama°</td>\n",
       "    </tr>\n",
       "    <tr>\n",
       "      <th>3</th>\n",
       "      <td>9253</td>\n",
       "      <td>Steins;Gate</td>\n",
       "      <td>Steins;Gate Movie: Fuka Ryouiki no Déjà vu</td>\n",
       "      <td>Steins;Gate</td>\n",
       "      <td>Steins;Gate</td>\n",
       "      <td>Steins;Gate</td>\n",
       "      <td>Steins;Gate</td>\n",
       "      <td>Steins;Gate</td>\n",
       "      <td>Steins;Gate</td>\n",
       "      <td>Steins;Gate</td>\n",
       "      <td>Steins;Gate</td>\n",
       "      <td>Steins;Gate</td>\n",
       "    </tr>\n",
       "    <tr>\n",
       "      <th>4</th>\n",
       "      <td>9969</td>\n",
       "      <td>Gintama</td>\n",
       "      <td>Gintama: Enchousen</td>\n",
       "      <td>Gintama</td>\n",
       "      <td>Gintama</td>\n",
       "      <td>Gintama</td>\n",
       "      <td>Gintama</td>\n",
       "      <td>Gintama</td>\n",
       "      <td>Gintama</td>\n",
       "      <td>Gintama</td>\n",
       "      <td>Gintama</td>\n",
       "      <td>Gintama</td>\n",
       "    </tr>\n",
       "  </tbody>\n",
       "</table>\n",
       "</div>"
      ],
      "text/plain": [
       "   anime_id                              name  \\\n",
       "0     32281                    Kimi no Na wa.   \n",
       "1      5114  Fullmetal Alchemist: Brotherhood   \n",
       "2     28977                          Gintama°   \n",
       "3      9253                       Steins;Gate   \n",
       "4      9969                           Gintama   \n",
       "\n",
       "                                            1  \\\n",
       "0                     Shigatsu wa Kimi no Uso   \n",
       "1                                 Steins;Gate   \n",
       "2                          Gintama: Enchousen   \n",
       "3  Steins;Gate Movie: Fuka Ryouiki no Déjà vu   \n",
       "4                          Gintama: Enchousen   \n",
       "\n",
       "                                  2                                 3  \\\n",
       "0                    Kimi no Na wa.                    Kimi no Na wa.   \n",
       "1  Fullmetal Alchemist: Brotherhood  Fullmetal Alchemist: Brotherhood   \n",
       "2                          Gintama°                          Gintama°   \n",
       "3                       Steins;Gate                       Steins;Gate   \n",
       "4                           Gintama                           Gintama   \n",
       "\n",
       "                                  4                                 5  \\\n",
       "0                    Kimi no Na wa.                    Kimi no Na wa.   \n",
       "1  Fullmetal Alchemist: Brotherhood  Fullmetal Alchemist: Brotherhood   \n",
       "2                          Gintama°                          Gintama°   \n",
       "3                       Steins;Gate                       Steins;Gate   \n",
       "4                           Gintama                           Gintama   \n",
       "\n",
       "                                  6                                 7  \\\n",
       "0                    Kimi no Na wa.                    Kimi no Na wa.   \n",
       "1  Fullmetal Alchemist: Brotherhood  Fullmetal Alchemist: Brotherhood   \n",
       "2                          Gintama°                          Gintama°   \n",
       "3                       Steins;Gate                       Steins;Gate   \n",
       "4                           Gintama                           Gintama   \n",
       "\n",
       "                                  8                                 9  \\\n",
       "0                    Kimi no Na wa.                    Kimi no Na wa.   \n",
       "1  Fullmetal Alchemist: Brotherhood  Fullmetal Alchemist: Brotherhood   \n",
       "2                          Gintama°                          Gintama°   \n",
       "3                       Steins;Gate                       Steins;Gate   \n",
       "4                           Gintama                           Gintama   \n",
       "\n",
       "                                 10  \n",
       "0                    Kimi no Na wa.  \n",
       "1  Fullmetal Alchemist: Brotherhood  \n",
       "2                          Gintama°  \n",
       "3                       Steins;Gate  \n",
       "4                           Gintama  "
      ]
     },
     "execution_count": 56,
     "metadata": {},
     "output_type": "execute_result"
    }
   ],
   "source": [
    "df"
   ]
  },
  {
   "cell_type": "code",
   "execution_count": null,
   "metadata": {},
   "outputs": [],
   "source": [
    "df1['one']"
   ]
  },
  {
   "cell_type": "code",
   "execution_count": null,
   "metadata": {},
   "outputs": [],
   "source": [
    "x = input('Enter Anime Name:')\n",
    "anime_name = anime[anime['name'].str.contains(x, case=False)].sort_values(by='members', ascending=False).reset_index()['name'][0]"
   ]
  },
  {
   "cell_type": "code",
   "execution_count": null,
   "metadata": {},
   "outputs": [],
   "source": [
    "items = pd.read_parquet('data1/itemsnew.parquet',columns=['name',anime_name])\n",
    "items.head()"
   ]
  },
  {
   "cell_type": "code",
   "execution_count": null,
   "metadata": {},
   "outputs": [],
   "source": [
    "def top_animes1(n):\n",
    "    anime_name = anime[anime['name'].str.contains(x, case=False)].sort_values(by='members', ascending=False).reset_index()['name'][0]\n",
    "    count = 1\n",
    "    print('If you like {}, you may also like:\\n'.format(anime_name))\n",
    "    for item in items.sort_values(by = anime_name, ascending = False).name[1:int(n)+1]:\n",
    "        print('No. {}: {}'.format(count, item))\n",
    "        count +=1"
   ]
  },
  {
   "cell_type": "code",
   "execution_count": null,
   "metadata": {},
   "outputs": [],
   "source": [
    "top_animes1(11)"
   ]
  },
  {
   "cell_type": "code",
   "execution_count": null,
   "metadata": {},
   "outputs": [],
   "source": []
  }
 ],
 "metadata": {
  "kernelspec": {
   "display_name": "Python 3",
   "language": "python",
   "name": "python3"
  },
  "language_info": {
   "codemirror_mode": {
    "name": "ipython",
    "version": 3
   },
   "file_extension": ".py",
   "mimetype": "text/x-python",
   "name": "python",
   "nbconvert_exporter": "python",
   "pygments_lexer": "ipython3",
   "version": "3.8.5"
  }
 },
 "nbformat": 4,
 "nbformat_minor": 4
}
